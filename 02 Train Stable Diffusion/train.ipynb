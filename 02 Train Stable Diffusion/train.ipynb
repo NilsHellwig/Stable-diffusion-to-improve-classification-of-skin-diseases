{
 "cells": [
  {
   "cell_type": "markdown",
   "id": "647afd5a-43e1-4d3a-91d9-7ff622b7e7f4",
   "metadata": {},
   "source": [
    "# Notebook: Train Stable Diffusion\n",
    "\n",
    "This notebook is used to train the stable diffusion model.\n",
    "<br>\n",
    "**Contributors:** Nils Hellwig "
   ]
  },
  {
   "cell_type": "markdown",
   "id": "52edc58e-2271-452d-9713-b73962b0a6cb",
   "metadata": {},
   "source": [
    "## Import Packages"
   ]
  },
  {
   "cell_type": "code",
   "execution_count": 1,
   "id": "78e7cffa-ef1e-4af1-9e76-8d9d63b59593",
   "metadata": {},
   "outputs": [],
   "source": [
    "import subprocess"
   ]
  },
  {
   "cell_type": "markdown",
   "id": "307f6ad2-a7db-473c-8bbc-c3e2f08c61e5",
   "metadata": {},
   "source": [
    "## Parameters"
   ]
  },
  {
   "cell_type": "code",
   "execution_count": 2,
   "id": "395f67fb-c151-4b58-b54f-e88618a0082c",
   "metadata": {},
   "outputs": [],
   "source": [
    "MODEL_NAME = \"stabilityai/stable-diffusion-2\"\n",
    "TRAIN_DIR = \"../Datasets/dataset\"\n",
    "OUTPUT_DIR = \"/mnt/data/stable_diffusion_2_skin_balanced\"\n",
    "N_STEPS = 50000\n",
    "RESOLUTION = 512\n",
    "CHECKPOINT_STEPS = 10000"
   ]
  },
  {
   "cell_type": "markdown",
   "id": "42f8b9bb-9f7e-43d2-aac5-8320149ca0ea",
   "metadata": {},
   "source": [
    "## Code"
   ]
  },
  {
   "cell_type": "code",
   "execution_count": null,
   "id": "bc46ef4b-fc8f-44ee-87c0-164e5af5c406",
   "metadata": {},
   "outputs": [],
   "source": [
    "command = f\"accelerate launch train_text_to_image.py \\\n",
    "  --pretrained_model_name_or_path={MODEL_NAME} \\\n",
    "  --train_data_dir={TRAIN_DIR} \\\n",
    "  --use_ema \\\n",
    "  --resolution={RESOLUTION} --center_crop --random_flip \\\n",
    "  --train_batch_size=1 \\\n",
    "  --gradient_accumulation_steps=4 \\\n",
    "  --gradient_checkpointing \\\n",
    "  --mixed_precision='fp16' \\\n",
    "  --max_train_steps={N_STEPS} \\\n",
    "  --learning_rate=1e-05 \\\n",
    "  --checkpointing_steps={CHECKPOINT_STEPS} \\\n",
    "  --max_grad_norm=1 \\\n",
    "  --image_column='image' \\\n",
    "  --caption_column='text' \\\n",
    "  --lr_scheduler='constant' --lr_warmup_steps=0 \\\n",
    "  --output_dir={OUTPUT_DIR}\"\n",
    "\n",
    "subprocess.run(command, shell=True)"
   ]
  }
 ],
 "metadata": {
  "kernelspec": {
   "display_name": "Python 3 (ipykernel)",
   "language": "python",
   "name": "python3"
  },
  "language_info": {
   "codemirror_mode": {
    "name": "ipython",
    "version": 3
   },
   "file_extension": ".py",
   "mimetype": "text/x-python",
   "name": "python",
   "nbconvert_exporter": "python",
   "pygments_lexer": "ipython3",
   "version": "3.10.8"
  }
 },
 "nbformat": 4,
 "nbformat_minor": 5
}
